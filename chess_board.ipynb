{
 "cells": [
  {
   "cell_type": "markdown",
   "metadata": {},
   "source": [
    "# Chess Board"
   ]
  },
  {
   "cell_type": "code",
   "execution_count": 72,
   "metadata": {},
   "outputs": [],
   "source": [
    "import numpy as np"
   ]
  },
  {
   "cell_type": "code",
   "execution_count": 73,
   "metadata": {},
   "outputs": [],
   "source": [
    "import matplotlib.pyplot as plt"
   ]
  },
  {
   "cell_type": "code",
   "execution_count": 74,
   "metadata": {},
   "outputs": [],
   "source": [
    "import matplotlib.image as mpimg"
   ]
  },
  {
   "cell_type": "code",
   "execution_count": 75,
   "metadata": {},
   "outputs": [],
   "source": [
    "from random import random"
   ]
  },
  {
   "cell_type": "code",
   "execution_count": null,
   "metadata": {},
   "outputs": [],
   "source": []
  },
  {
   "cell_type": "code",
   "execution_count": 122,
   "metadata": {},
   "outputs": [],
   "source": [
    "class ChessBoard:\n",
    "    \n",
    "    white = (1,1,1)\n",
    "    red = (1,.2,0)\n",
    "    blue = (.1,.1,1)\n",
    "    \n",
    "    def __init__(self):\n",
    "        self._grid = np.zeros((8,8,3))\n",
    "        self.red_row = None\n",
    "        self.red_col = None\n",
    "        self.blue_row = None\n",
    "        self.blue_col = None\n",
    "\n",
    "    def render(self):\n",
    "        #this creates a chess board\n",
    "        self._grid = np.zeros((8,8,3))\n",
    "        for i in range(0,8,2):\n",
    "            self._grid[i,0:8:2] = (1,1,1)\n",
    "            self._grid[i+1,1:8:2]=(1,1,1)\n",
    "        if self.red_row !=None or self.red_col !=None:\n",
    "            self._grid[self.red_row,self.red_col] = (1,0.2,0)\n",
    "        if self.blue_row !=None or self.blue_col !=None:\n",
    "            self._grid[self.blue_row, self.blue_col]=(.1,.1,1)\n",
    "            \n",
    "        plt.imshow(self._grid)  \n",
    "        \n",
    "    def add_red(self):\n",
    "        self.red_row = int(input(\"enter row 0-8\"))\n",
    "        self.red_col = int(input(\"enter col 0-8\"))\n",
    "        self._grid[self.red_row,self.red_col] = (1,.2,0)\n",
    "        self.render()\n",
    "    \n",
    "    def add_blue(self):\n",
    "        self.blue_row = int(input(\"enter row 0-8\"))\n",
    "        self.blue_col = int(input(\"enter col 0-8\"))\n",
    "        self._grid[self.blue_row,self.blue_col] = (0.1,.1,1)\n",
    "        self.render()\n",
    "    \n",
    "    def is_diagonal(self):\n",
    "        rows = abs(self.red_row - self.blue_row)\n",
    "        cols = abs(self.red_col - self.blue_col)\n",
    "        return rows==cols\n",
    "    \n",
    "    def is_rows(self):\n",
    "        rows = abs(self.red_row - self.blue_row)\n",
    "        return rows==0\n",
    "    \n",
    "    def is_cols(self):\n",
    "        cols = abs(self.red_col - self.blue_col)\n",
    "        return cols==0\n",
    "        \n",
    "    def is_under_attack(self):\n",
    "        #check if the red and blue color are under attack\n",
    "        return self.is_diagonal() or self.is_rows() or self.is_cols()\n",
    "            "
   ]
  },
  {
   "cell_type": "code",
   "execution_count": 123,
   "metadata": {},
   "outputs": [],
   "source": [
    "chess = ChessBoard()\n"
   ]
  },
  {
   "cell_type": "code",
   "execution_count": 124,
   "metadata": {},
   "outputs": [
    {
     "data": {
      "image/png": "[encoded data removed]",
      "text/plain": [
       "<Figure size 432x288 with 1 Axes>"
      ]
     },
     "metadata": {
      "needs_background": "light"
     },
     "output_type": "display_data"
    }
   ],
   "source": [
    "chess.render()"
   ]
  },
  {
   "cell_type": "code",
   "execution_count": 125,
   "metadata": {},
   "outputs": [
    {
     "name": "stdin",
     "output_type": "stream",
     "text": [
      "enter row 0-8 0\n",
      "enter col 0-8 0\n"
     ]
    },
    {
     "data": {
      "image/png": "[encoded data removed]",
      "text/plain": [
       "<Figure size 432x288 with 1 Axes>"
      ]
     },
     "metadata": {
      "needs_background": "light"
     },
     "output_type": "display_data"
    }
   ],
   "source": [
    "chess.add_red()"
   ]
  },
  {
   "cell_type": "code",
   "execution_count": 126,
   "metadata": {},
   "outputs": [
    {
     "name": "stdin",
     "output_type": "stream",
     "text": [
      "enter row 0-8 3\n",
      "enter col 0-8 3\n"
     ]
    },
    {
     "data": {
      "image/png": "[encoded data removed]",
      "text/plain": [
       "<Figure size 432x288 with 1 Axes>"
      ]
     },
     "metadata": {
      "needs_background": "light"
     },
     "output_type": "display_data"
    }
   ],
   "source": [
    "chess.add_blue()"
   ]
  },
  {
   "cell_type": "code",
   "execution_count": 127,
   "metadata": {},
   "outputs": [
    {
     "data": {
      "text/plain": [
       "True"
      ]
     },
     "execution_count": 127,
     "metadata": {},
     "output_type": "execute_result"
    }
   ],
   "source": [
    "chess.is_under_attack()"
   ]
  },
  {
   "cell_type": "code",
   "execution_count": 128,
   "metadata": {},
   "outputs": [
    {
     "name": "stdin",
     "output_type": "stream",
     "text": [
      "enter row 0-8 1\n",
      "enter col 0-8 1\n"
     ]
    },
    {
     "data": {
      "image/png": "[encoded data removed]",
      "text/plain": [
       "<Figure size 432x288 with 1 Axes>"
      ]
     },
     "metadata": {
      "needs_background": "light"
     },
     "output_type": "display_data"
    }
   ],
   "source": [
    "chess.add_red()"
   ]
  },
  {
   "cell_type": "code",
   "execution_count": 129,
   "metadata": {},
   "outputs": [
    {
     "name": "stdin",
     "output_type": "stream",
     "text": [
      "enter row 0-8 4\n",
      "enter col 0-8 6\n"
     ]
    },
    {
     "data": {
      "image/png": "[encoded data removed]",
      "text/plain": [
       "<Figure size 432x288 with 1 Axes>"
      ]
     },
     "metadata": {
      "needs_background": "light"
     },
     "output_type": "display_data"
    }
   ],
   "source": [
    "chess.add_blue()"
   ]
  },
  {
   "cell_type": "code",
   "execution_count": 130,
   "metadata": {},
   "outputs": [
    {
     "data": {
      "text/plain": [
       "False"
      ]
     },
     "execution_count": 130,
     "metadata": {},
     "output_type": "execute_result"
    }
   ],
   "source": [
    "chess.is_under_attack()"
   ]
  },
  {
   "cell_type": "code",
   "execution_count": null,
   "metadata": {},
   "outputs": [],
   "source": []
  }
 ],
 "metadata": {
  "kernelspec": {
   "display_name": "Python 3",
   "language": "python",
   "name": "python3"
  },
  "language_info": {
   "codemirror_mode": {
    "name": "ipython",
    "version": 3
   },
   "file_extension": ".py",
   "mimetype": "text/x-python",
   "name": "python",
   "nbconvert_exporter": "python",
   "pygments_lexer": "ipython3",
   "version": "3.8.2"
  }
 },
 "nbformat": 4,
 "nbformat_minor": 4
}
