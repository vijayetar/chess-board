{
 "cells": [
  {
   "cell_type": "markdown",
   "metadata": {},
   "source": [
    "# Chess Board"
   ]
  },
  {
   "cell_type": "code",
   "execution_count": 72,
   "metadata": {},
   "outputs": [],
   "source": [
    "import numpy as np"
   ]
  },
  {
   "cell_type": "code",
   "execution_count": 73,
   "metadata": {},
   "outputs": [],
   "source": [
    "import matplotlib.pyplot as plt"
   ]
  },
  {
   "cell_type": "code",
   "execution_count": 74,
   "metadata": {},
   "outputs": [],
   "source": [
    "import matplotlib.image as mpimg"
   ]
  },
  {
   "cell_type": "code",
   "execution_count": 75,
   "metadata": {},
   "outputs": [],
   "source": [
    "from random import random"
   ]
  },
  {
   "cell_type": "code",
   "execution_count": null,
   "metadata": {},
   "outputs": [],
   "source": []
  },
  {
   "cell_type": "code",
   "execution_count": 76,
   "metadata": {},
   "outputs": [],
   "source": [
    "class ChessBoard:\n",
    "    \n",
    "    white = (1,1,1)\n",
    "    red = (1,.2,0)\n",
    "    blue = (.1,.1,1)\n",
    "    \n",
    "    def __init__(self):\n",
    "        self._grid = np.zeros((8,8,3))\n",
    "        self.red_row = None\n",
    "        self.red_col = None\n",
    "        self.blue_row = None\n",
    "        self.blue_col = None\n",
    "\n",
    "    def render(self):\n",
    "        #this creates a chess board\n",
    "        self._grid = np.zeros((8,8,3))\n",
    "        for i in range(0,8,2):\n",
    "            self._grid[i,0:8:2] = (1,1,1)\n",
    "            self._grid[i+1,1:8:2]=(1,1,1)\n",
    "        if self.red_row or self.red_col:\n",
    "            self._grid[self.red_row,self.red_col] = (1,0.2,0)\n",
    "        if self.blue_row or self.blue_col:\n",
    "            self._grid[self.blue_row, self.blue_col]=(.1,.1,1)\n",
    "            \n",
    "        plt.imshow(self._grid)  \n",
    "    \n",
    "    def color_cell(self, row, col, color):\n",
    "        self._grid[row, col] = color\n",
    "        \n",
    "    def add_red(self,row,col):\n",
    "        self.red_row = row\n",
    "        self.red_col = col\n",
    "        self._grid[row,col] = (1,.2,0)\n",
    "        self.render()\n",
    "    \n",
    "    def add_blue(self,row,col):\n",
    "        self.blue_row = row\n",
    "        self.blue_col = col\n",
    "        self._grid[row,col] = (0.1,.1,1)\n",
    "        self.render()\n",
    "    \n",
    "    def is_diagonal(self):\n",
    "        rows = abs(self.red_row - self.blue_row)\n",
    "        cols = abs(self.red_col - self.blue_col)\n",
    "        return rows==cols\n",
    "    \n",
    "    def is_rows(self):\n",
    "        rows = abs(self.red_row - self.blue_row)\n",
    "        return rows==0\n",
    "    \n",
    "    def is_cols(self):\n",
    "        cols = abs(self.red_col - self.blue_col)\n",
    "        return cols==0\n",
    "        \n",
    "    def is_under_attack(self):\n",
    "        #check if the red and blue color are under attack\n",
    "        return is_diagonal() or is_rows() or is_cols()\n",
    "            "
   ]
  },
  {
   "cell_type": "code",
   "execution_count": 77,
   "metadata": {},
   "outputs": [],
   "source": [
    "chess = ChessBoard()\n"
   ]
  },
  {
   "cell_type": "code",
   "execution_count": 78,
   "metadata": {},
   "outputs": [
    {
     "data": {
      "image/png": "[encoded data removed]",
      "text/plain": [
       "<Figure size 432x288 with 1 Axes>"
      ]
     },
     "metadata": {
      "needs_background": "light"
     },
     "output_type": "display_data"
    }
   ],
   "source": [
    "chess.render()"
   ]
  },
  {
   "cell_type": "code",
   "execution_count": 79,
   "metadata": {},
   "outputs": [
    {
     "data": {
      "image/png": "[encoded data removed]",
      "text/plain": [
       "<Figure size 432x288 with 1 Axes>"
      ]
     },
     "metadata": {
      "needs_background": "light"
     },
     "output_type": "display_data"
    }
   ],
   "source": [
    "chess.add_red(5,5)"
   ]
  },
  {
   "cell_type": "code",
   "execution_count": 80,
   "metadata": {},
   "outputs": [],
   "source": [
    "chess.add_blue(3,4)"
   ]
  },
  {
   "cell_type": "code",
   "execution_count": null,
   "metadata": {},
   "outputs": [],
   "source": []
  },
  {
   "cell_type": "code",
   "execution_count": null,
   "metadata": {},
   "outputs": [],
   "source": [
    "\n"
   ]
  },
  {
   "cell_type": "code",
   "execution_count": null,
   "metadata": {},
   "outputs": [],
   "source": []
  }
 ],
 "metadata": {
  "kernelspec": {
   "display_name": "Python 3",
   "language": "python",
   "name": "python3"
  },
  "language_info": {
   "codemirror_mode": {
    "name": "ipython",
    "version": 3
   },
   "file_extension": ".py",
   "mimetype": "text/x-python",
   "name": "python",
   "nbconvert_exporter": "python",
   "pygments_lexer": "ipython3",
   "version": "3.8.2"
  }
 },
 "nbformat": 4,
 "nbformat_minor": 4
}
